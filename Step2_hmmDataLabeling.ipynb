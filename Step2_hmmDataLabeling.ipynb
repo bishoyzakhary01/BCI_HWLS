{
 "cells": [
  {
   "cell_type": "code",
   "execution_count": 1,
   "metadata": {},
   "outputs": [],
   "source": [
    "import numpy as np\n",
    "import scipy.io\n",
    "from characterDefinitions import getHandwritingCharacterDefinitions\n",
    "from dataLabelingStep import labelDataset, preparedataforLSTM\n",
    "import os\n",
    "import datetime\n",
    "\n",
    "#point this towards the top level dataset directory\n",
    "rootDir = os.path.expanduser('~') + '/handwritingBCIData/'\n",
    "\n",
    "#define which datasets to process\n",
    "dataDirs = ['t5.2019.05.08','t5.2019.11.25','t5.2019.12.09','t5.2019.12.11','t5.2019.12.1+8',\n",
    "            't5.2019.12.20','t5.2020.01.06','t5.2020.01.08','t5.2020.01.13','t5.2020.01.15']\n",
    "\n",
    "#defines the list of all 31 characters and what to call them\n",
    "charDef = getHandwritingCharacterDefinitions()\n",
    "\n",
    "#saves all labels in this folder\n",
    "if not os.path.isdir(rootDir + 'LSTMTrainingSteps/Step2_HMMLabels'):\n",
    "    os.mkdir(rootDir + 'LSTMTrainingSteps/Step2_HMMLabels')"
   ]
  },
  {
   "cell_type": "code",
   "execution_count": 2,
   "metadata": {},
   "outputs": [
    {
     "name": "stdout",
     "output_type": "stream",
     "text": [
      "Labeling t5.2019.05.08 dataset\n",
      "Labeling 'HeldOutBlocks' partition\n",
      "HMM Iteration 0\n",
      "HMM Iteration 1\n"
     ]
    },
    {
     "ename": "ValueError",
     "evalue": "too many dimensions 'str'",
     "output_type": "error",
     "traceback": [
      "\u001b[0;31m---------------------------------------------------------------------------\u001b[0m",
      "\u001b[0;31mValueError\u001b[0m                                Traceback (most recent call last)",
      "Cell \u001b[0;32mIn[2], line 38\u001b[0m\n\u001b[1;32m     30\u001b[0m letterStarts, letterDurations, blankWindows \u001b[39m=\u001b[39m labelDataset(sentenceDat, \n\u001b[1;32m     31\u001b[0m                                                            singleLetterDat, \n\u001b[1;32m     32\u001b[0m                                                            twCubes,\n\u001b[1;32m     33\u001b[0m                                                            trainPartitionIdx, \n\u001b[1;32m     34\u001b[0m                                                            testPartitionIdx, \n\u001b[1;32m     35\u001b[0m                                                            charDef)\n\u001b[1;32m     37\u001b[0m \u001b[39m# Construct targets for supervised learning\u001b[39;00m\n\u001b[0;32m---> 38\u001b[0m charStartTarget, charProbTarget, ignoreErrorHere \u001b[39m=\u001b[39m preparedataforLSTM(letterStarts, \n\u001b[1;32m     39\u001b[0m                                                                        letterDurations, \n\u001b[1;32m     40\u001b[0m                                                                        sentenceDat[\u001b[39m'\u001b[39;49m\u001b[39mneuralActivityCube\u001b[39;49m\u001b[39m'\u001b[39;49m]\u001b[39m.\u001b[39;49mshape[\u001b[39m1\u001b[39;49m], \n\u001b[1;32m     41\u001b[0m                                                                        sentences, \n\u001b[1;32m     42\u001b[0m                                                                        charDef)\n\u001b[1;32m     44\u001b[0m saveDict \u001b[39m=\u001b[39m {}\n\u001b[1;32m     45\u001b[0m saveDict[\u001b[39m'\u001b[39m\u001b[39mletterStarts\u001b[39m\u001b[39m'\u001b[39m] \u001b[39m=\u001b[39m letterStarts\n",
      "File \u001b[0;32m~/Documents/GitHub/BCIHWLSTM/dataLabelingStep.py:163\u001b[0m, in \u001b[0;36mpreparedataforLSTM\u001b[0;34m(letterStarts, letterDurations, maxTimeSteps, sentences, charDef)\u001b[0m\n\u001b[1;32m    160\u001b[0m \u001b[39melse\u001b[39;00m:\n\u001b[1;32m    161\u001b[0m     stepIdx \u001b[39m=\u001b[39m torch\u001b[39m.\u001b[39marange(letterStarts[sentenceIdx, x], maxTimeSteps)\n\u001b[0;32m--> 163\u001b[0m charIdx \u001b[39m=\u001b[39m torch\u001b[39m.\u001b[39;49mtensor(charDef[\u001b[39m'\u001b[39;49m\u001b[39mcharListAbbr\u001b[39;49m\u001b[39m'\u001b[39;49m])\u001b[39m.\u001b[39meq(sentence[x])\u001b[39m.\u001b[39mnonzero(as_tuple\u001b[39m=\u001b[39m\u001b[39mTrue\u001b[39;00m)[\u001b[39m0\u001b[39m]\n\u001b[1;32m    164\u001b[0m charProbTarget[sentenceIdx, stepIdx, charIdx] \u001b[39m=\u001b[39m \u001b[39m1\u001b[39m\n\u001b[1;32m    166\u001b[0m stepIdx \u001b[39m=\u001b[39m torch\u001b[39m.\u001b[39marange(letterStarts[sentenceIdx, x], letterStarts[sentenceIdx, x] \u001b[39m+\u001b[39m \u001b[39m21\u001b[39m)\n",
      "\u001b[0;31mValueError\u001b[0m: too many dimensions 'str'"
     ]
    }
   ],
   "source": [
    "for dataDir in dataDirs:\n",
    "    timeStart = datetime.datetime.now()\n",
    "    print('Labeling ' + dataDir + ' dataset')\n",
    "    \n",
    "    # Load sentences, single letter, time-warped files, and train/test partitions\n",
    "    sentenceDat = scipy.io.loadmat(rootDir + 'Datasets/' + dataDir + '/sentences.mat')\n",
    "    singleLetterDat = scipy.io.loadmat(rootDir + 'Datasets/' + dataDir + '/singleLetters.mat')\n",
    "    twCubes = scipy.io.loadmat(rootDir + 'LSTMTrainingSteps/Step1_TimeWarping/' + dataDir + '_warpedCubes.mat')\n",
    "\n",
    "    cvPart_heldOutBlocks = scipy.io.loadmat(rootDir + 'LSTMTrainingSteps/trainTestPartitions_HeldOutBlocks.mat')\n",
    "    cvPart_heldOutTrials = scipy.io.loadmat(rootDir + 'LSTMTrainingSteps/trainTestPartitions_HeldOutTrials.mat')\n",
    "    cvParts = [cvPart_heldOutBlocks, cvPart_heldOutTrials]\n",
    "    \n",
    "    # Remove hashmarks (#) from the sentence prompts\n",
    "    for x in range(sentenceDat['sentencePrompt'].shape[0]):\n",
    "        sentenceDat['sentencePrompt'][x, 0][0] = sentenceDat['sentencePrompt'][x, 0][0].replace('#', '')\n",
    "    \n",
    "    cvFolderNames = ['HeldOutBlocks', 'HeldOutTrials']\n",
    "    \n",
    "    sentences = sentenceDat['sentencePrompt'][:, 0]\n",
    "    sentenceLens = sentenceDat['numTimeBinsPerSentence'][:, 0]\n",
    "    \n",
    "    # Construct separate labels for each training partition\n",
    "    for cvPart, cvFolder in zip(cvParts, cvFolderNames):\n",
    "        print(\"Labeling '\" + cvFolder + \"' partition\")\n",
    "        trainPartitionIdx = cvPart[dataDir + '_train']\n",
    "        testPartitionIdx = cvPart[dataDir + '_test']\n",
    "        \n",
    "        # Label the data with an iterative forced alignment HMM\n",
    "        letterStarts, letterDurations, blankWindows = labelDataset(sentenceDat, \n",
    "                                                                   singleLetterDat, \n",
    "                                                                   twCubes,\n",
    "                                                                   trainPartitionIdx, \n",
    "                                                                   testPartitionIdx, \n",
    "                                                                   charDef)\n",
    "        \n",
    "        # Construct targets for supervised learning\n",
    "        charStartTarget, charProbTarget, ignoreErrorHere = preparedataforLSTM(letterStarts, \n",
    "                                                                               letterDurations, \n",
    "                                                                               sentenceDat['neuralActivityCube'].shape[1], \n",
    "                                                                               sentences, \n",
    "                                                                               charDef)\n",
    "        \n",
    "        saveDict = {}\n",
    "        saveDict['letterStarts'] = letterStarts\n",
    "        saveDict['letterDurations'] = letterDurations\n",
    "        saveDict['charStartTarget'] = charStartTarget.astype(np.float32)\n",
    "        saveDict['charProbTarget'] = charProbTarget.astype(np.float32)\n",
    "        saveDict['ignoreErrorHere'] = ignoreErrorHere.astype(np.float32)\n",
    "        saveDict['blankWindows'] = blankWindows\n",
    "        saveDict['timeBinsPerSentence'] = sentenceDat['numTimeBinsPerSentence']\n",
    "        \n",
    "        if not os.path.isdir(rootDir + 'LSTMTrainingSteps/Step2_HMMLabels/' + cvFolder):\n",
    "            os.mkdir(rootDir + 'LSTMTrainingSteps/Step2_HMMLabels/' + cvFolder)\n",
    "            \n",
    "        scipy.io.savemat(rootDir + 'LSTMTrainingSteps/Step2_HMMLabels/' + cvFolder + '/' + dataDir + '_timeSeriesLabels.mat', saveDict)\n",
    "        \n",
    "    timeEnd = datetime.datetime.now()\n",
    "    print('Total time taken: ' + str((timeEnd - timeStart).total_seconds()) + ' seconds')\n",
    "    print(' ')"
   ]
  }
 ],
 "metadata": {
  "kernelspec": {
   "display_name": "Python 3",
   "language": "python",
   "name": "python3"
  },
  "language_info": {
   "codemirror_mode": {
    "name": "ipython",
    "version": 3
   },
   "file_extension": ".py",
   "mimetype": "text/x-python",
   "name": "python",
   "nbconvert_exporter": "python",
   "pygments_lexer": "ipython3",
   "version": "3.11.4"
  },
  "orig_nbformat": 4
 },
 "nbformat": 4,
 "nbformat_minor": 2
}
